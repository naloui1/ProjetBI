{
 "cells": [
  {
   "cell_type": "code",
   "execution_count": 3,
   "metadata": {},
   "outputs": [],
   "source": [
    "import pandas as pd"
   ]
  },
  {
   "cell_type": "code",
   "execution_count": 29,
   "metadata": {},
   "outputs": [],
   "source": [
    "file = 'Référentiel_Commune.csv'"
   ]
  },
  {
   "cell_type": "code",
   "execution_count": 33,
   "metadata": {},
   "outputs": [],
   "source": [
    "df = pd.read_csv(file, sep=',', encoding='latin')"
   ]
  },
  {
   "cell_type": "code",
   "execution_count": 34,
   "metadata": {},
   "outputs": [
    {
     "data": {
      "text/html": [
       "<div>\n",
       "<style scoped>\n",
       "    .dataframe tbody tr th:only-of-type {\n",
       "        vertical-align: middle;\n",
       "    }\n",
       "\n",
       "    .dataframe tbody tr th {\n",
       "        vertical-align: top;\n",
       "    }\n",
       "\n",
       "    .dataframe thead th {\n",
       "        text-align: right;\n",
       "    }\n",
       "</style>\n",
       "<table border=\"1\" class=\"dataframe\">\n",
       "  <thead>\n",
       "    <tr style=\"text-align: right;\">\n",
       "      <th></th>\n",
       "      <th>PRD_CODE</th>\n",
       "      <th>PRD_LIBELLE</th>\n",
       "      <th>PRD_SOURCE</th>\n",
       "    </tr>\n",
       "  </thead>\n",
       "  <tbody>\n",
       "    <tr>\n",
       "      <th>0</th>\n",
       "      <td>1001</td>\n",
       "      <td>1001</td>\n",
       "      <td>ATHANOR</td>\n",
       "    </tr>\n",
       "    <tr>\n",
       "      <th>1</th>\n",
       "      <td>547</td>\n",
       "      <td>FILM PLASTIQUE SORTI DE TRI</td>\n",
       "      <td>ATHANOR</td>\n",
       "    </tr>\n",
       "    <tr>\n",
       "      <th>2</th>\n",
       "      <td>548</td>\n",
       "      <td>PEHD RESIDUEL SORTIE TRI</td>\n",
       "      <td>ATHANOR</td>\n",
       "    </tr>\n",
       "    <tr>\n",
       "      <th>3</th>\n",
       "      <td>549</td>\n",
       "      <td>PET Clair RESIDUEL SORTIE TRI</td>\n",
       "      <td>ATHANOR</td>\n",
       "    </tr>\n",
       "    <tr>\n",
       "      <th>4</th>\n",
       "      <td>550</td>\n",
       "      <td>PET FoncÃ© RESIDUEL SORTIE TRI</td>\n",
       "      <td>ATHANOR</td>\n",
       "    </tr>\n",
       "    <tr>\n",
       "      <th>...</th>\n",
       "      <td>...</td>\n",
       "      <td>...</td>\n",
       "      <td>...</td>\n",
       "    </tr>\n",
       "    <tr>\n",
       "      <th>172</th>\n",
       "      <td>433</td>\n",
       "      <td>Refus TD1 inertes pre-trait</td>\n",
       "      <td>MURIANETTE</td>\n",
       "    </tr>\n",
       "    <tr>\n",
       "      <th>173</th>\n",
       "      <td>434</td>\n",
       "      <td>Refus TD2 inertes affinage</td>\n",
       "      <td>MURIANETTE</td>\n",
       "    </tr>\n",
       "    <tr>\n",
       "      <th>174</th>\n",
       "      <td>435</td>\n",
       "      <td>Refus TD3 inertes affinage</td>\n",
       "      <td>MURIANETTE</td>\n",
       "    </tr>\n",
       "    <tr>\n",
       "      <th>175</th>\n",
       "      <td>2</td>\n",
       "      <td>DM RECYCLABLES</td>\n",
       "      <td>MURIANETTE</td>\n",
       "    </tr>\n",
       "    <tr>\n",
       "      <th>176</th>\n",
       "      <td>34</td>\n",
       "      <td>Substrat de champignons</td>\n",
       "      <td>MURIANETTE</td>\n",
       "    </tr>\n",
       "  </tbody>\n",
       "</table>\n",
       "<p>177 rows × 3 columns</p>\n",
       "</div>"
      ],
      "text/plain": [
       "     PRD_CODE                     PRD_LIBELLE  PRD_SOURCE\n",
       "0        1001                            1001     ATHANOR\n",
       "1         547     FILM PLASTIQUE SORTI DE TRI     ATHANOR\n",
       "2         548        PEHD RESIDUEL SORTIE TRI     ATHANOR\n",
       "3         549   PET Clair RESIDUEL SORTIE TRI     ATHANOR\n",
       "4         550  PET FoncÃ© RESIDUEL SORTIE TRI     ATHANOR\n",
       "..        ...                             ...         ...\n",
       "172       433     Refus TD1 inertes pre-trait  MURIANETTE\n",
       "173       434      Refus TD2 inertes affinage  MURIANETTE\n",
       "174       435      Refus TD3 inertes affinage  MURIANETTE\n",
       "175         2                  DM RECYCLABLES  MURIANETTE\n",
       "176        34         Substrat de champignons  MURIANETTE\n",
       "\n",
       "[177 rows x 3 columns]"
      ]
     },
     "execution_count": 34,
     "metadata": {},
     "output_type": "execute_result"
    }
   ],
   "source": [
    "df"
   ]
  },
  {
   "cell_type": "code",
   "execution_count": 35,
   "metadata": {},
   "outputs": [
    {
     "name": "stdout",
     "output_type": "stream",
     "text": [
      "PRD_CODE PRD_LIBELLE PRD_SOURCE\n"
     ]
    }
   ],
   "source": [
    "print(*df.columns)"
   ]
  },
  {
   "cell_type": "code",
   "execution_count": null,
   "metadata": {},
   "outputs": [],
   "source": []
  }
 ],
 "metadata": {
  "kernelspec": {
   "display_name": "all",
   "language": "python",
   "name": "python3"
  },
  "language_info": {
   "codemirror_mode": {
    "name": "ipython",
    "version": 3
   },
   "file_extension": ".py",
   "mimetype": "text/x-python",
   "name": "python",
   "nbconvert_exporter": "python",
   "pygments_lexer": "ipython3",
   "version": "3.12.2"
  }
 },
 "nbformat": 4,
 "nbformat_minor": 2
}
